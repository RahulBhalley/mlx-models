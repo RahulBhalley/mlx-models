{
 "cells": [
  {
   "cell_type": "code",
   "execution_count": 1,
   "metadata": {},
   "outputs": [],
   "source": [
    "import mlx.core as mx\n",
    "import mlx.nn as nn\n",
    "from mlx.nn.layers.base import Module"
   ]
  },
  {
   "cell_type": "code",
   "execution_count": 2,
   "metadata": {},
   "outputs": [
    {
     "data": {
      "text/plain": [
       "'0.1.0'"
      ]
     },
     "execution_count": 2,
     "metadata": {},
     "output_type": "execute_result"
    }
   ],
   "source": [
    "mx.__version__"
   ]
  },
  {
   "cell_type": "code",
   "execution_count": 3,
   "metadata": {},
   "outputs": [],
   "source": [
    "# Temporary import till support in ml-explore/mlx\n",
    "from pooling import AdaptiveAvgPool2d, MaxPool2d"
   ]
  },
  {
   "cell_type": "code",
   "execution_count": 4,
   "metadata": {},
   "outputs": [
    {
     "name": "stdout",
     "output_type": "stream",
     "text": [
      "weights.safetensors\n"
     ]
    }
   ],
   "source": [
    "ls *safe*"
   ]
  },
  {
   "cell_type": "code",
   "execution_count": 48,
   "metadata": {},
   "outputs": [],
   "source": [
    "class Network(Module):\n",
    "\n",
    "    def __init__(self):\n",
    "        super().__init__()\n",
    "\n",
    "        self.layers = nn.Sequential(\n",
    "            nn.Conv2d(3, 64, kernel_size=10, stride=4, padding=2),\n",
    "            nn.ReLU(),\n",
    "            nn.Conv2d(3, 64, kernel_size=8, stride=4, padding=2),\n",
    "            nn.Dropout2d(p=0.5),\n",
    "        )\n",
    "        self.relu = nn.ReLU()\n",
    "        self.pool = MaxPool2d(kernel_size=3, stride=2)\n",
    "    \n",
    "    def __call__(self, a: mx.array) -> mx.array:\n",
    "        return self.relu(self.layers(a))"
   ]
  },
  {
   "cell_type": "code",
   "execution_count": 49,
   "metadata": {},
   "outputs": [
    {
     "ename": "IndexError",
     "evalue": "list index out of range",
     "output_type": "error",
     "traceback": [
      "\u001b[0;31m---------------------------------------------------------------------------\u001b[0m",
      "\u001b[0;31mIndexError\u001b[0m                                Traceback (most recent call last)",
      "Cell \u001b[0;32mIn[49], line 3\u001b[0m\n\u001b[1;32m      1\u001b[0m net \u001b[38;5;241m=\u001b[39m Network()\n\u001b[1;32m      2\u001b[0m net\u001b[38;5;241m.\u001b[39msave_weights(\u001b[38;5;124m\"\u001b[39m\u001b[38;5;124mnet.safetensors\u001b[39m\u001b[38;5;124m\"\u001b[39m)\n\u001b[0;32m----> 3\u001b[0m \u001b[43mnet\u001b[49m\u001b[38;5;241;43m.\u001b[39;49m\u001b[43mload_weights\u001b[49m\u001b[43m(\u001b[49m\u001b[38;5;124;43m\"\u001b[39;49m\u001b[38;5;124;43mnet.safetensors\u001b[39;49m\u001b[38;5;124;43m\"\u001b[39;49m\u001b[43m)\u001b[49m\n",
      "File \u001b[0;32m~/venvs/mlx/lib/python3.11/site-packages/mlx/nn/layers/base.py:168\u001b[0m, in \u001b[0;36mModule.load_weights\u001b[0;34m(self, file_or_weights, strict)\u001b[0m\n\u001b[1;32m    162\u001b[0m         \u001b[38;5;28;01mif\u001b[39;00m v_new\u001b[38;5;241m.\u001b[39mshape \u001b[38;5;241m!=\u001b[39m v\u001b[38;5;241m.\u001b[39mshape:\n\u001b[1;32m    163\u001b[0m             \u001b[38;5;28;01mraise\u001b[39;00m \u001b[38;5;167;01mValueError\u001b[39;00m(\n\u001b[1;32m    164\u001b[0m                 \u001b[38;5;124mf\u001b[39m\u001b[38;5;124m\"\u001b[39m\u001b[38;5;124mExpected shape \u001b[39m\u001b[38;5;132;01m{\u001b[39;00mv\u001b[38;5;241m.\u001b[39mshape\u001b[38;5;132;01m}\u001b[39;00m\u001b[38;5;124m but received \u001b[39m\u001b[38;5;124m\"\u001b[39m\n\u001b[1;32m    165\u001b[0m                 \u001b[38;5;124mf\u001b[39m\u001b[38;5;124m\"\u001b[39m\u001b[38;5;124m shape \u001b[39m\u001b[38;5;132;01m{\u001b[39;00mv_new\u001b[38;5;241m.\u001b[39mshape\u001b[38;5;132;01m}\u001b[39;00m\u001b[38;5;124m for parameter \u001b[39m\u001b[38;5;132;01m{\u001b[39;00mk\u001b[38;5;132;01m}\u001b[39;00m\u001b[38;5;124m\"\u001b[39m\n\u001b[1;32m    166\u001b[0m             )\n\u001b[0;32m--> 168\u001b[0m \u001b[38;5;28;43mself\u001b[39;49m\u001b[38;5;241;43m.\u001b[39;49m\u001b[43mupdate\u001b[49m\u001b[43m(\u001b[49m\u001b[43mtree_unflatten\u001b[49m\u001b[43m(\u001b[49m\u001b[43mweights\u001b[49m\u001b[43m)\u001b[49m\u001b[43m)\u001b[49m\n",
      "File \u001b[0;32m~/venvs/mlx/lib/python3.11/site-packages/mlx/nn/layers/base.py:325\u001b[0m, in \u001b[0;36mModule.update\u001b[0;34m(self, parameters)\u001b[0m\n\u001b[1;32m    322\u001b[0m             \u001b[38;5;28;01melif\u001b[39;00m \u001b[38;5;28misinstance\u001b[39m(current_value, (\u001b[38;5;28mdict\u001b[39m, \u001b[38;5;28mlist\u001b[39m)):\n\u001b[1;32m    323\u001b[0m                 apply(current_value, new_value)\n\u001b[0;32m--> 325\u001b[0m \u001b[43mapply\u001b[49m\u001b[43m(\u001b[49m\u001b[38;5;28;43mself\u001b[39;49m\u001b[43m,\u001b[49m\u001b[43m \u001b[49m\u001b[43mparameters\u001b[49m\u001b[43m)\u001b[49m\n",
      "File \u001b[0;32m~/venvs/mlx/lib/python3.11/site-packages/mlx/nn/layers/base.py:311\u001b[0m, in \u001b[0;36mModule.update.<locals>.apply\u001b[0;34m(dst, parameters)\u001b[0m\n\u001b[1;32m    309\u001b[0m     dst[k] \u001b[38;5;241m=\u001b[39m new_value\n\u001b[1;32m    310\u001b[0m \u001b[38;5;28;01melif\u001b[39;00m \u001b[38;5;28misinstance\u001b[39m(current_value, Module):\n\u001b[0;32m--> 311\u001b[0m     \u001b[43mcurrent_value\u001b[49m\u001b[38;5;241;43m.\u001b[39;49m\u001b[43mupdate\u001b[49m\u001b[43m(\u001b[49m\u001b[43mnew_value\u001b[49m\u001b[43m)\u001b[49m\n\u001b[1;32m    312\u001b[0m \u001b[38;5;28;01melif\u001b[39;00m \u001b[38;5;28misinstance\u001b[39m(current_value, (\u001b[38;5;28mdict\u001b[39m, \u001b[38;5;28mlist\u001b[39m)):\n\u001b[1;32m    313\u001b[0m     apply(current_value, new_value)\n",
      "File \u001b[0;32m~/venvs/mlx/lib/python3.11/site-packages/mlx/nn/layers/base.py:325\u001b[0m, in \u001b[0;36mModule.update\u001b[0;34m(self, parameters)\u001b[0m\n\u001b[1;32m    322\u001b[0m             \u001b[38;5;28;01melif\u001b[39;00m \u001b[38;5;28misinstance\u001b[39m(current_value, (\u001b[38;5;28mdict\u001b[39m, \u001b[38;5;28mlist\u001b[39m)):\n\u001b[1;32m    323\u001b[0m                 apply(current_value, new_value)\n\u001b[0;32m--> 325\u001b[0m \u001b[43mapply\u001b[49m\u001b[43m(\u001b[49m\u001b[38;5;28;43mself\u001b[39;49m\u001b[43m,\u001b[49m\u001b[43m \u001b[49m\u001b[43mparameters\u001b[49m\u001b[43m)\u001b[49m\n",
      "File \u001b[0;32m~/venvs/mlx/lib/python3.11/site-packages/mlx/nn/layers/base.py:313\u001b[0m, in \u001b[0;36mModule.update.<locals>.apply\u001b[0;34m(dst, parameters)\u001b[0m\n\u001b[1;32m    311\u001b[0m                 current_value\u001b[38;5;241m.\u001b[39mupdate(new_value)\n\u001b[1;32m    312\u001b[0m             \u001b[38;5;28;01melif\u001b[39;00m \u001b[38;5;28misinstance\u001b[39m(current_value, (\u001b[38;5;28mdict\u001b[39m, \u001b[38;5;28mlist\u001b[39m)):\n\u001b[0;32m--> 313\u001b[0m                 \u001b[43mapply\u001b[49m\u001b[43m(\u001b[49m\u001b[43mcurrent_value\u001b[49m\u001b[43m,\u001b[49m\u001b[43m \u001b[49m\u001b[43mnew_value\u001b[49m\u001b[43m)\u001b[49m\n\u001b[1;32m    314\u001b[0m \u001b[38;5;28;01melif\u001b[39;00m \u001b[38;5;28misinstance\u001b[39m(parameters, \u001b[38;5;28mlist\u001b[39m):\n\u001b[1;32m    315\u001b[0m     \u001b[38;5;28;01mfor\u001b[39;00m i \u001b[38;5;129;01min\u001b[39;00m \u001b[38;5;28mrange\u001b[39m(\u001b[38;5;28mlen\u001b[39m(dst)):\n",
      "File \u001b[0;32m~/venvs/mlx/lib/python3.11/site-packages/mlx/nn/layers/base.py:317\u001b[0m, in \u001b[0;36mModule.update.<locals>.apply\u001b[0;34m(dst, parameters)\u001b[0m\n\u001b[1;32m    315\u001b[0m \u001b[38;5;28;01mfor\u001b[39;00m i \u001b[38;5;129;01min\u001b[39;00m \u001b[38;5;28mrange\u001b[39m(\u001b[38;5;28mlen\u001b[39m(dst)):\n\u001b[1;32m    316\u001b[0m     current_value \u001b[38;5;241m=\u001b[39m dst[i]\n\u001b[0;32m--> 317\u001b[0m     new_value \u001b[38;5;241m=\u001b[39m \u001b[43mparameters\u001b[49m\u001b[43m[\u001b[49m\u001b[43mi\u001b[49m\u001b[43m]\u001b[49m\n\u001b[1;32m    318\u001b[0m     \u001b[38;5;28;01mif\u001b[39;00m \u001b[38;5;28misinstance\u001b[39m(current_value, mx\u001b[38;5;241m.\u001b[39marray):\n\u001b[1;32m    319\u001b[0m         dst[i] \u001b[38;5;241m=\u001b[39m new_value\n",
      "\u001b[0;31mIndexError\u001b[0m: list index out of range"
     ]
    }
   ],
   "source": [
    "net = Network()\n",
    "net.save_weights(\"net.safetensors\")\n",
    "net.load_weights(\"net.safetensors\")"
   ]
  },
  {
   "cell_type": "code",
   "execution_count": null,
   "metadata": {},
   "outputs": [],
   "source": []
  }
 ],
 "metadata": {
  "kernelspec": {
   "display_name": "mlx",
   "language": "python",
   "name": "python3"
  },
  "language_info": {
   "codemirror_mode": {
    "name": "ipython",
    "version": 3
   },
   "file_extension": ".py",
   "mimetype": "text/x-python",
   "name": "python",
   "nbconvert_exporter": "python",
   "pygments_lexer": "ipython3",
   "version": "3.11.6"
  }
 },
 "nbformat": 4,
 "nbformat_minor": 2
}
